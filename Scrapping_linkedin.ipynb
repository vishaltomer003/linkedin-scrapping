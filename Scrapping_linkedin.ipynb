{
 "cells": [
  {
   "cell_type": "code",
   "execution_count": 1,
   "metadata": {},
   "outputs": [],
   "source": [
    "import pandas as pd\n",
    "import re\n",
    "import requests\n",
    "from bs4 import BeautifulSoup\n",
    "from selenium import webdriver\n",
    "from selenium.webdriver.common.keys import Keys\n",
    "from selenium.webdriver.common.by import By\n",
    "import time\n",
    "from geopy.exc import GeocoderTimedOut\n",
    "from geopy.geocoders import Nominatim\n",
    "import numpy as np\n",
    "from selenium.webdriver.support.ui import WebDriverWait\n",
    "from selenium.webdriver.support import expected_conditions as EC"
   ]
  },
  {
   "cell_type": "code",
   "execution_count": 2,
   "metadata": {},
   "outputs": [],
   "source": [
    "url ='https://www.linkedin.com/jobs/collections/'\n",
    "driver = webdriver.Firefox()\n",
    "driver.get(url)\n",
    "\n",
    "login_button = driver.find_element(By.CLASS_NAME, \"main__sign-in-link\")\n",
    "login_button.click()\n",
    "\n",
    "username = driver.find_element(\"id\",\"username\")\n",
    "username.send_keys(\"vishaltomer0324@gmail.com\")\n",
    "password = driver.find_element(\"id\",\"password\")\n",
    "password.send_keys(\"**********\")\n",
    "\n",
    "button = driver.find_elements(By.XPATH, \"//button[contains(text(),'Sign in')]\")\n",
    "button[0].click()"
   ]
  },
  {
   "cell_type": "code",
   "execution_count": 3,
   "metadata": {},
   "outputs": [],
   "source": [
    "locationlist = []\n",
    "for i in range(40):\n",
    "    lin = 'https://www.linkedin.com/jobs/collections/?currentJobId=3378646771&start=' + str(25+(i-1)*25)\n",
    "    driver.get(lin)\n",
    "    soup = BeautifulSoup(driver.page_source,\"html.parser\")\n",
    "    for link in soup.find_all('a', href = True):\n",
    "        if 'flagship3_search_srp_job' in link['href']:\n",
    "            locationlist.append(link['href'])"
   ]
  },
  {
   "cell_type": "code",
   "execution_count": 4,
   "metadata": {},
   "outputs": [
    {
     "data": {
      "text/plain": [
       "44"
      ]
     },
     "execution_count": 4,
     "metadata": {},
     "output_type": "execute_result"
    }
   ],
   "source": [
    "len(locationlist)"
   ]
  },
  {
   "cell_type": "code",
   "execution_count": 5,
   "metadata": {},
   "outputs": [],
   "source": [
    "\n",
    "l = []\n",
    "\n",
    "for i in range(len(locationlist)):\n",
    "    if 'https://www.linkedin.com'+locationlist[i] not in l:\n",
    "        l.append('https://www.linkedin.com'+locationlist[i])\n",
    "\n"
   ]
  },
  {
   "cell_type": "code",
   "execution_count": 6,
   "metadata": {},
   "outputs": [
    {
     "name": "stdout",
     "output_type": "stream",
     "text": [
      "1 2 3 4 5 "
     ]
    }
   ],
   "source": [
    "# company_name\n",
    "job = []\n",
    "location = []\n",
    "company_name = []\n",
    "work_type = []\n",
    "full_time_remote = []\n",
    "no_of_employ =[]\n",
    "no_of_application = []\n",
    "count = 0\n",
    "for i in range(len(l)):\n",
    "    count += 1\n",
    "    print(count,end=\" \")\n",
    "    try:\n",
    "        driver.get(l[i])\n",
    "        time.sleep(2)\n",
    "    except:\n",
    "        pass\n",
    "    try:\n",
    "        j= driver.find_elements(By.XPATH,'/html/body/div[5]/div[3]/div/div[1]/div[1]/div/div[1]/div/div/div[1]/h1')\n",
    "        company_name.append(j[0].text)\n",
    "        \n",
    "    except:\n",
    "        company_name.append('NA')\n",
    "    try:\n",
    "        j= driver.find_elements(By.CSS_SELECTOR,'.jobs-unified-top-card__workplace-type')\n",
    "        work_type.append(j[0].text)\n",
    "    except:\n",
    "        work_type.append('NA')\n",
    "    try:\n",
    "        j= driver.find_elements(By.CSS_SELECTOR,'li.jobs-unified-top-card__job-insight:nth-child(1) > span:nth-child(2)')\n",
    "        full_time_remote.append(j[0].text)\n",
    "    except:\n",
    "        full_time_remote.append('NA')\n",
    "    try:\n",
    "        j= driver.find_elements(By.CSS_SELECTOR,'.jobs-unified-top-card__subtitle-primary-grouping > span:nth-child(2)')\n",
    "        location.append(j[0].text)\n",
    "    except:\n",
    "        location.append('NA')\n",
    "    try:\n",
    "        j= driver.find_elements(By.CSS_SELECTOR,'.t-24')\n",
    "        job.append(j[0].text)\n",
    "    except:\n",
    "        job.append('NA')\n",
    "    try:\n",
    "        j= driver.find_elements(By.CSS_SELECTOR,'li.jobs-unified-top-card__job-insight:nth-child(2) > span:nth-child(2)')\n",
    "        no_of_employ.append(j[0].text)\n",
    "    except:\n",
    "        no_of_employ.append('NA')\n",
    "    try:\n",
    "        j= driver.find_elements(By.CSS_SELECTOR,'.jobs-unified-top-card__applicant-count')\n",
    "        no_of_application.append(j[0].text)\n",
    "    except:\n",
    "        no_of_application.append('NA')\n",
    "        "
   ]
  },
  {
   "cell_type": "code",
   "execution_count": 7,
   "metadata": {},
   "outputs": [],
   "source": [
    "col=['job','location','company_name','work_type','full_time_remote','no_of_employ','no_of_application']\n",
    "df=pd.DataFrame({'job': job,'location':location,'company_name':company_name,'work_type':work_type,'full_time_remote':full_time_remote,'no_of_employ':no_of_employ,'no_of_application':no_of_application})"
   ]
  },
  {
   "cell_type": "code",
   "execution_count": 8,
   "metadata": {},
   "outputs": [
    {
     "data": {
      "text/html": [
       "<div>\n",
       "<style scoped>\n",
       "    .dataframe tbody tr th:only-of-type {\n",
       "        vertical-align: middle;\n",
       "    }\n",
       "\n",
       "    .dataframe tbody tr th {\n",
       "        vertical-align: top;\n",
       "    }\n",
       "\n",
       "    .dataframe thead th {\n",
       "        text-align: right;\n",
       "    }\n",
       "</style>\n",
       "<table border=\"1\" class=\"dataframe\">\n",
       "  <thead>\n",
       "    <tr style=\"text-align: right;\">\n",
       "      <th></th>\n",
       "      <th>job</th>\n",
       "      <th>location</th>\n",
       "      <th>company_name</th>\n",
       "      <th>work_type</th>\n",
       "      <th>full_time_remote</th>\n",
       "      <th>no_of_employ</th>\n",
       "      <th>no_of_application</th>\n",
       "    </tr>\n",
       "  </thead>\n",
       "  <tbody>\n",
       "    <tr>\n",
       "      <th>0</th>\n",
       "      <td>Data Analyst</td>\n",
       "      <td>Greater Delhi Area</td>\n",
       "      <td>Data Analyst</td>\n",
       "      <td>On-site</td>\n",
       "      <td>Full-time</td>\n",
       "      <td>11-50 employees</td>\n",
       "      <td>2 applicants</td>\n",
       "    </tr>\n",
       "    <tr>\n",
       "      <th>1</th>\n",
       "      <td>Neo4j</td>\n",
       "      <td>Delhi, India</td>\n",
       "      <td>Neo4j</td>\n",
       "      <td>Hybrid</td>\n",
       "      <td>Full-time · Associate</td>\n",
       "      <td>10,001+ employees · IT Services and IT Consulting</td>\n",
       "      <td>2 applicants</td>\n",
       "    </tr>\n",
       "    <tr>\n",
       "      <th>2</th>\n",
       "      <td>Quantitative Modeler</td>\n",
       "      <td>Greater Delhi Area</td>\n",
       "      <td>Quantitative Modeler</td>\n",
       "      <td>Remote</td>\n",
       "      <td>Contract</td>\n",
       "      <td>11-50 employees</td>\n",
       "      <td>77 applicants</td>\n",
       "    </tr>\n",
       "    <tr>\n",
       "      <th>3</th>\n",
       "      <td>SAP Business Object Data Services Consultant</td>\n",
       "      <td>India</td>\n",
       "      <td>SAP Business Object Data Services Consultant</td>\n",
       "      <td>Remote</td>\n",
       "      <td>Contract</td>\n",
       "      <td>51-200 employees</td>\n",
       "      <td>35 applicants</td>\n",
       "    </tr>\n",
       "    <tr>\n",
       "      <th>4</th>\n",
       "      <td>Flutter Developer</td>\n",
       "      <td>New Delhi, Delhi, India</td>\n",
       "      <td>Flutter Developer</td>\n",
       "      <td>On-site</td>\n",
       "      <td>Full-time</td>\n",
       "      <td>51-200 employees</td>\n",
       "      <td>63 applicants</td>\n",
       "    </tr>\n",
       "  </tbody>\n",
       "</table>\n",
       "</div>"
      ],
      "text/plain": [
       "                                            job                 location  \\\n",
       "0                                  Data Analyst       Greater Delhi Area   \n",
       "1                                         Neo4j             Delhi, India   \n",
       "2                          Quantitative Modeler       Greater Delhi Area   \n",
       "3  SAP Business Object Data Services Consultant                    India   \n",
       "4                             Flutter Developer  New Delhi, Delhi, India   \n",
       "\n",
       "                                   company_name work_type  \\\n",
       "0                                  Data Analyst   On-site   \n",
       "1                                         Neo4j    Hybrid   \n",
       "2                          Quantitative Modeler    Remote   \n",
       "3  SAP Business Object Data Services Consultant    Remote   \n",
       "4                             Flutter Developer   On-site   \n",
       "\n",
       "        full_time_remote                                       no_of_employ  \\\n",
       "0              Full-time                                    11-50 employees   \n",
       "1  Full-time · Associate  10,001+ employees · IT Services and IT Consulting   \n",
       "2               Contract                                    11-50 employees   \n",
       "3               Contract                                   51-200 employees   \n",
       "4              Full-time                                   51-200 employees   \n",
       "\n",
       "  no_of_application  \n",
       "0      2 applicants  \n",
       "1      2 applicants  \n",
       "2     77 applicants  \n",
       "3     35 applicants  \n",
       "4     63 applicants  "
      ]
     },
     "execution_count": 8,
     "metadata": {},
     "output_type": "execute_result"
    }
   ],
   "source": [
    "df"
   ]
  }
 ],
 "metadata": {
  "kernelspec": {
   "display_name": "Python 3.9.12 ('base')",
   "language": "python",
   "name": "python3"
  },
  "language_info": {
   "codemirror_mode": {
    "name": "ipython",
    "version": 3
   },
   "file_extension": ".py",
   "mimetype": "text/x-python",
   "name": "python",
   "nbconvert_exporter": "python",
   "pygments_lexer": "ipython3",
   "version": "3.9.12 (main, Apr  4 2022, 05:22:27) [MSC v.1916 64 bit (AMD64)]"
  },
  "orig_nbformat": 4,
  "vscode": {
   "interpreter": {
    "hash": "043f2b5a1970a131d06754b308e1494d14bec9888fec20f91acc177f4f73a177"
   }
  }
 },
 "nbformat": 4,
 "nbformat_minor": 2
}
